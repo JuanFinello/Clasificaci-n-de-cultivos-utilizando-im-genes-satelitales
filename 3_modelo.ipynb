{
 "cells": [
  {
   "cell_type": "markdown",
   "metadata": {},
   "source": [
    "# Construccion del modelo predictivo. Random Forest"
   ]
  },
  {
   "cell_type": "code",
   "execution_count": 43,
   "metadata": {},
   "outputs": [],
   "source": [
    "import pandas as pd\n",
    "from sklearn.metrics import classification_report, accuracy_score, roc_curve, auc, roc_auc_score, plot_roc_curve\n",
    "from sklearn.model_selection import cross_val_score,cross_validate\n",
    "from sklearn.model_selection import GridSearchCV\n",
    "from sklearn.tree import DecisionTreeClassifier\n",
    "from sklearn.ensemble import RandomForestClassifier\n",
    "from sklearn.metrics import accuracy_score, precision_score, recall_score, f1_score, confusion_matrix, classification_report\n",
    "\n",
    "from sklearn.preprocessing import StandardScaler,MinMaxScaler\n",
    "from sklearn.model_selection import train_test_split\n",
    "from sklearn.preprocessing import RobustScaler\n",
    "from numpy import mean\n",
    "from numpy import std\n",
    "import matplotlib.pyplot as plt\n",
    "import seaborn as sns\n",
    "from sklearn.model_selection import StratifiedKFold\n",
    "import warnings\n",
    "import numpy as np\n",
    "from numpy import mean\n",
    "from numpy import std\n",
    "from pandas import read_csv\n",
    "from matplotlib import pyplot\n",
    "from sklearn.preprocessing import LabelEncoder\n",
    "from sklearn.model_selection import cross_val_score\n",
    "from sklearn.model_selection import RepeatedStratifiedKFold\n",
    "from sklearn.svm import SVC\n",
    "from sklearn.neighbors import KNeighborsClassifier\n",
    "from sklearn.ensemble import RandomForestClassifier\n",
    "from sklearn.ensemble import ExtraTreesClassifier\n",
    "from sklearn.ensemble import BaggingClassifier\n",
    "\n",
    "\n",
    "# check version number\n",
    "import imblearn\n",
    "from imblearn.over_sampling import RandomOverSampler"
   ]
  },
  {
   "cell_type": "code",
   "execution_count": 44,
   "metadata": {},
   "outputs": [],
   "source": [
    "workdir=\"/home/juanfi/Documentos/diplo_utn/DesafioAgTech2020-master/data/segundo intento/\"\n",
    "df_train = pd.read_csv(workdir+'datos_campañas_train_reducido_final.csv')\n",
    "df_test  = pd.read_csv(workdir+'indices_test_reducido.csv', sep= '\\t')"
   ]
  },
  {
   "cell_type": "markdown",
   "metadata": {},
   "source": [
    "# Preparacion TRAIN"
   ]
  },
  {
   "cell_type": "code",
   "execution_count": 45,
   "metadata": {},
   "outputs": [
    {
     "data": {
      "text/plain": [
       "Index(['Unnamed: 0', 'cultivo', 'camp', 'ARI_t1', 'ARVI_t1', 'CHL-RED-EDGE_t1',\n",
       "       'GNDVI_t1', 'MCARI_t1', 'MSI_t1', 'NBR_t1', 'NDII_t1', 'NDVI_t1',\n",
       "       'NDWI_t1', 'PSSR_t1', 'SAVI_t1', 'ARI_t2', 'ARVI_t2', 'CHL-RED-EDGE_t2',\n",
       "       'GNDVI_t2', 'MCARI_t2', 'MSI_t2', 'NBR_t2', 'NDII_t2', 'NDVI_t2',\n",
       "       'NDWI_t2', 'PSSR_t2', 'SAVI_t2', 'ARI_t3', 'ARVI_t3', 'CHL-RED-EDGE_t3',\n",
       "       'GNDVI_t3', 'MCARI_t3', 'MSI_t3', 'NBR_t3', 'NDII_t3', 'NDVI_t3',\n",
       "       'NDWI_t3', 'PSSR_t3', 'SAVI_t3', 'ARI_t4', 'ARVI_t4', 'CHL-RED-EDGE_t4',\n",
       "       'GNDVI_t4', 'MCARI_t4', 'MSI_t4', 'NBR_t4', 'NDII_t4', 'NDVI_t4',\n",
       "       'NDWI_t4', 'PSSR_t4', 'SAVI_t4', 'ARI_t5', 'ARVI_t5', 'CHL-RED-EDGE_t5',\n",
       "       'GNDVI_t5', 'MCARI_t5', 'MSI_t5', 'NBR_t5', 'NDII_t5', 'NDVI_t5',\n",
       "       'NDWI_t5', 'PSSR_t5', 'SAVI_t5', 'ARI_t6', 'ARVI_t6', 'CHL-RED-EDGE_t6',\n",
       "       'GNDVI_t6', 'MCARI_t6', 'MSI_t6', 'NBR_t6', 'NDII_t6', 'NDVI_t6',\n",
       "       'NDWI_t6', 'PSSR_t6', 'SAVI_t6'],\n",
       "      dtype='object')"
      ]
     },
     "execution_count": 45,
     "metadata": {},
     "output_type": "execute_result"
    }
   ],
   "source": [
    "df_train.columns"
   ]
  },
  {
   "cell_type": "code",
   "execution_count": 51,
   "metadata": {},
   "outputs": [],
   "source": [
    "# Label enconder a los tags para cada cultivo para poder incorporar al modelo\n",
    "\n",
    "from sklearn.preprocessing import LabelEncoder\n",
    "\n",
    "y=df_train['cultivo']\n",
    "\n",
    "le = preprocessing.LabelEncoder()\n",
    "\n",
    "y= le.fit_transform(y)\n",
    "\n",
    "df_y = pd.DataFrame(y, columns = ['label'])"
   ]
  },
  {
   "cell_type": "code",
   "execution_count": 54,
   "metadata": {},
   "outputs": [
    {
     "data": {
      "text/plain": [
       "{'A': 0,\n",
       " 'B': 1,\n",
       " 'G': 2,\n",
       " 'M': 3,\n",
       " 'N': 4,\n",
       " 'P': 5,\n",
       " 'R': 6,\n",
       " 'S': 7,\n",
       " 'S/M': 8,\n",
       " 'T': 9,\n",
       " 'U': 10,\n",
       " 'X': 11,\n",
       " 'aa': 12,\n",
       " 'm': 13,\n",
       " 's': 14}"
      ]
     },
     "execution_count": 54,
     "metadata": {},
     "output_type": "execute_result"
    }
   ],
   "source": [
    "\n",
    "### Construimos un diccionario de los labels para poder hacer maping con las predicciones\n",
    "### que nos devuelva en modelo y saber a que cultivo corresponden\n",
    "\n",
    "mapping = dict(zip(le.classes_, range(len(le.classes_))))\n",
    "mapping"
   ]
  },
  {
   "cell_type": "code",
   "execution_count": 5,
   "metadata": {},
   "outputs": [],
   "source": [
    "colstoexclude = ['Unnamed: 0', 'lat', 'lon', 'px', 'py', 'cultivo', 'camp']\n",
    "\n",
    "X =df_train[[col for col in df_train.columns if col not in colstoexclude]]"
   ]
  },
  {
   "cell_type": "markdown",
   "metadata": {},
   "source": [
    "### Escalado"
   ]
  },
  {
   "cell_type": "code",
   "execution_count": 6,
   "metadata": {},
   "outputs": [],
   "source": [
    "scaler = RobustScaler()\n",
    "X_scaled = scaler.fit_transform(X)\n",
    "\n",
    "X_scaled =pd.DataFrame(X_scaled) \n",
    "\n",
    "X_scaled.columns = X.columns"
   ]
  },
  {
   "cell_type": "code",
   "execution_count": null,
   "metadata": {
    "scrolled": true
   },
   "outputs": [],
   "source": []
  },
  {
   "cell_type": "markdown",
   "metadata": {},
   "source": [
    "### Split en train test"
   ]
  },
  {
   "cell_type": "code",
   "execution_count": 7,
   "metadata": {},
   "outputs": [],
   "source": [
    "xtrain,xtest,ytrain,ytest = train_test_split(X_scaled,y, test_size= 0.25)"
   ]
  },
  {
   "cell_type": "markdown",
   "metadata": {},
   "source": [
    "### Evaluar desbalance de clases, probar hacer un balance un poco más equitativo"
   ]
  },
  {
   "cell_type": "code",
   "execution_count": 8,
   "metadata": {},
   "outputs": [
    {
     "data": {
      "text/plain": [
       "array([ 0,  1,  2,  3,  4,  5,  6,  7,  8,  9, 10, 11, 12, 13, 14])"
      ]
     },
     "execution_count": 8,
     "metadata": {},
     "output_type": "execute_result"
    }
   ],
   "source": [
    "np.unique(y)"
   ]
  },
  {
   "cell_type": "code",
   "execution_count": 9,
   "metadata": {},
   "outputs": [
    {
     "data": {
      "text/plain": [
       "<matplotlib.axes._subplots.AxesSubplot at 0x7f6146cd7e50>"
      ]
     },
     "execution_count": 9,
     "metadata": {},
     "output_type": "execute_result"
    },
    {
     "data": {
      "image/png": "[encoded data removed]",
      "text/plain": [
       "<Figure size 432x288 with 1 Axes>"
      ]
     },
     "metadata": {
      "needs_background": "light"
     },
     "output_type": "display_data"
    }
   ],
   "source": [
    "clases = df_train['cultivo'].value_counts()\n",
    "clases.plot(kind = 'bar')"
   ]
  },
  {
   "cell_type": "code",
   "execution_count": 10,
   "metadata": {},
   "outputs": [
    {
     "name": "stdout",
     "output_type": "stream",
     "text": [
      "Class=7, Count=499, Percentage=43.619%\n",
      "Class=3, Count=292, Percentage=25.524%\n",
      "Class=4, Count=107, Percentage=9.353%\n",
      "Class=0, Count=3, Percentage=0.262%\n",
      "Class=5, Count=65, Percentage=5.682%\n",
      "Class=6, Count=12, Percentage=1.049%\n",
      "Class=12, Count=4, Percentage=0.350%\n",
      "Class=11, Count=43, Percentage=3.759%\n",
      "Class=8, Count=2, Percentage=0.175%\n",
      "Class=14, Count=90, Percentage=7.867%\n",
      "Class=2, Count=2, Percentage=0.175%\n",
      "Class=13, Count=5, Percentage=0.437%\n",
      "Class=10, Count=12, Percentage=1.049%\n",
      "Class=1, Count=6, Percentage=0.524%\n",
      "Class=9, Count=2, Percentage=0.175%\n"
     ]
    }
   ],
   "source": [
    "from collections import Counter\n",
    "\n",
    "target = df_y['label']\n",
    "counter = Counter(target)\n",
    "for k,v in counter.items():\n",
    "    per = v / len(target) * 100\n",
    "    print('Class=%d, Count=%d, Percentage=%.3f%%' % (k, v, per))\n"
   ]
  },
  {
   "cell_type": "markdown",
   "metadata": {},
   "source": [
    "### RANDOM OVER SAMPLING "
   ]
  },
  {
   "cell_type": "code",
   "execution_count": 11,
   "metadata": {},
   "outputs": [],
   "source": [
    "strategy = {0:15, 1:15, 2:15, 6:15,8:15,9:15,10:15,12:15,13:15}\n",
    "oversample = RandomOverSampler(sampling_strategy=strategy)"
   ]
  },
  {
   "cell_type": "code",
   "execution_count": 12,
   "metadata": {},
   "outputs": [],
   "source": [
    "X_over, y_over = oversample.fit_resample(xtrain, ytrain)"
   ]
  },
  {
   "cell_type": "markdown",
   "metadata": {},
   "source": [
    "### EVALUACION DE MODELOS"
   ]
  },
  {
   "cell_type": "code",
   "execution_count": 13,
   "metadata": {},
   "outputs": [],
   "source": [
    "\n",
    "def evaluate_model(X, y, model):\n",
    "    cv = RepeatedStratifiedKFold(n_splits=5, n_repeats=3, random_state=1)\n",
    "    scores = cross_val_score(model, X, y, scoring='accuracy', cv=cv, n_jobs=-1)\n",
    "    return scores"
   ]
  },
  {
   "cell_type": "code",
   "execution_count": 14,
   "metadata": {},
   "outputs": [],
   "source": [
    "# Modelos a probar\n",
    "\n",
    "def get_models():\n",
    "    models, names = list(), list()\n",
    "    # SVM\n",
    "    models.append(SVC(gamma='auto'))\n",
    "    names.append('SVM')\n",
    "    # KNN\n",
    "    models.append(KNeighborsClassifier())\n",
    "    names.append('KNN')\n",
    "    # Bagging\n",
    "    models.append(BaggingClassifier(n_estimators=1000))\n",
    "    names.append('BAG')\n",
    "    # RF\n",
    "    models.append(RandomForestClassifier(n_estimators=1000))\n",
    "    names.append('RF')\n",
    "    # ET\n",
    "    models.append(ExtraTreesClassifier(n_estimators=1000))\n",
    "    names.append('ET')\n",
    "    return models, names"
   ]
  },
  {
   "cell_type": "code",
   "execution_count": 15,
   "metadata": {},
   "outputs": [
    {
     "name": "stdout",
     "output_type": "stream",
     "text": [
      ">SVM 0.922 (0.018)\n",
      ">KNN 0.903 (0.014)\n",
      ">BAG 0.948 (0.013)\n",
      ">RF 0.959 (0.010)\n",
      ">ET 0.959 (0.010)\n"
     ]
    },
    {
     "data": {
      "image/png": "[encoded data removed]",
      "text/plain": [
       "<Figure size 432x288 with 1 Axes>"
      ]
     },
     "metadata": {
      "needs_background": "light"
     },
     "output_type": "display_data"
    }
   ],
   "source": [
    "# definir modelos\n",
    "models, names = get_models()\n",
    "results = list()\n",
    "\n",
    "# evaluar cada modelo\n",
    "\n",
    "for i in range(len(models)):   \n",
    "    # evaluar el modelo y almacenar los resultados\n",
    "    scores = evaluate_model(X_over, y_over, models[i])\n",
    "    results.append(scores)\n",
    "    #Rendimiento\n",
    "    print('>%s %.3f (%.3f)' % (names[i], mean(scores), std(scores)))\n",
    "\n",
    "pyplot.boxplot(results, labels=names, showmeans=True)\n",
    "pyplot.show()"
   ]
  },
  {
   "cell_type": "markdown",
   "metadata": {},
   "source": [
    "Seleciono RF por mejor scoring"
   ]
  },
  {
   "cell_type": "markdown",
   "metadata": {},
   "source": [
    "### Random forest\n",
    "\n"
   ]
  },
  {
   "cell_type": "code",
   "execution_count": 16,
   "metadata": {},
   "outputs": [],
   "source": [
    "class Create_ensemble(object):\n",
    "    def __init__(self, n_splits, base_models):\n",
    "        self.n_splits = n_splits\n",
    "        self.base_models = base_models\n",
    "\n",
    "    def predict(self, X, y, T):\n",
    "        X = np.array(X)\n",
    "        y = np.array(y)\n",
    "        T = np.array(T)\n",
    "\n",
    "        folds = list(StratifiedKFold(n_splits=self.n_splits, shuffle=True, \n",
    "                                     random_state = random_state).split(X, y))\n",
    "\n",
    "        train_pred = np.zeros((X.shape[0], len(self.base_models)))\n",
    "        test_pred = np.zeros((T.shape[0], len(self.base_models)* self.n_splits))\n",
    "        f1_scores = np.zeros((len(self.base_models), self.n_splits))\n",
    "        recall_scores = np.zeros((len(self.base_models), self.n_splits))\n",
    "        \n",
    "        test_col = 0\n",
    "        for i, clf in enumerate(self.base_models):\n",
    "            \n",
    "            for j, (train_idx, valid_idx) in enumerate(folds):\n",
    "                \n",
    "                X_train = X[train_idx]\n",
    "                Y_train = y[train_idx]\n",
    "                X_valid = X[valid_idx]\n",
    "                Y_valid = y[valid_idx]\n",
    "                \n",
    "                clf.fit(X_train, Y_train)\n",
    "                \n",
    "                valid_pred = clf.predict(X_valid)\n",
    "                recall  = recall_score(Y_valid, valid_pred, average='macro')\n",
    "                f1 = f1_score(Y_valid, valid_pred, average='macro')\n",
    "                \n",
    "                recall_scores[i][j] = recall\n",
    "                f1_scores[i][j] = f1\n",
    "                \n",
    "                train_pred[valid_idx, i] = valid_pred\n",
    "                test_pred[:, test_col] = clf.predict(T)\n",
    "                test_col += 1\n",
    "                \n",
    "                print( \"Model- {} and CV- {} recall: {}, f1_score: {}\".format(i, j, recall, f1))\n",
    "            \n",
    "        return train_pred, test_pred, recall_scores, f1_scores"
   ]
  },
  {
   "cell_type": "code",
   "execution_count": 17,
   "metadata": {},
   "outputs": [],
   "source": [
    "random_state= 2018"
   ]
  },
  {
   "cell_type": "code",
   "execution_count": 18,
   "metadata": {},
   "outputs": [
    {
     "name": "stdout",
     "output_type": "stream",
     "text": [
      "Fitting 5 folds for each of 108 candidates, totalling 540 fits\n"
     ]
    },
    {
     "name": "stderr",
     "output_type": "stream",
     "text": [
      "[Parallel(n_jobs=-1)]: Using backend LokyBackend with 8 concurrent workers.\n",
      "[Parallel(n_jobs=-1)]: Done   9 tasks      | elapsed:    4.7s\n",
      "[Parallel(n_jobs=-1)]: Done  82 tasks      | elapsed:   28.4s\n",
      "[Parallel(n_jobs=-1)]: Done 205 tasks      | elapsed:  1.2min\n",
      "[Parallel(n_jobs=-1)]: Done 376 tasks      | elapsed:  2.3min\n",
      "[Parallel(n_jobs=-1)]: Done 540 out of 540 | elapsed:  3.3min finished\n"
     ]
    },
    {
     "data": {
      "text/plain": [
       "GridSearchCV(cv=StratifiedKFold(n_splits=5, random_state=2018, shuffle=True),\n",
       "             estimator=RandomForestClassifier(random_state=2018), n_jobs=-1,\n",
       "             param_grid={'max_depth': [6, 8, 10, 20],\n",
       "                         'min_samples_leaf': [4, 8, 12],\n",
       "                         'min_samples_split': [5, 10, 15],\n",
       "                         'n_estimators': [300, 400, 500]},\n",
       "             verbose=4)"
      ]
     },
     "execution_count": 18,
     "metadata": {},
     "output_type": "execute_result"
    }
   ],
   "source": [
    "from sklearn.ensemble import RandomForestClassifier\n",
    "from sklearn.model_selection import GridSearchCV\n",
    "from sklearn.metrics import make_scorer\n",
    "\n",
    "cv = StratifiedKFold(n_splits = 5, shuffle=True, random_state = random_state)\n",
    "\n",
    "rdf = RandomForestClassifier(random_state = random_state) \n",
    "scoring = {'Recall': make_scorer(recall_score),\n",
    "           'f1_score': make_scorer(f1_score)\n",
    "          }\n",
    "\n",
    "params = {'max_depth': [6, 8, 10, 20], \n",
    "              'min_samples_split': [5, 10, 15],\n",
    "              'min_samples_leaf' : [4, 8, 12],\n",
    "              'n_estimators' : [300, 400, 500]\n",
    "             }\n",
    "\n",
    "grid_clf = GridSearchCV(estimator = rdf, param_grid = params, cv = cv, n_jobs=-1, verbose=4)\n",
    "grid_clf.fit(X_over, y_over)"
   ]
  },
  {
   "cell_type": "code",
   "execution_count": 19,
   "metadata": {},
   "outputs": [
    {
     "name": "stdout",
     "output_type": "stream",
     "text": [
      "RandomForestClassifier(max_depth=10, min_samples_leaf=4, min_samples_split=5,\n",
      "                       n_estimators=300, random_state=2018)\n",
      "{'max_depth': 10, 'min_samples_leaf': 4, 'min_samples_split': 5, 'n_estimators': 300}\n"
     ]
    }
   ],
   "source": [
    "print(grid_clf.best_estimator_)\n",
    "print(grid_clf.best_params_)"
   ]
  },
  {
   "cell_type": "code",
   "execution_count": 20,
   "metadata": {},
   "outputs": [],
   "source": [
    "\n",
    "def evaluate_model(X, y, model):\n",
    "    # define evaluation procedure\n",
    "    cv = RepeatedStratifiedKFold(n_splits=5, n_repeats=3, random_state=1)\n",
    "    # evaluate model\n",
    "    scores = cross_val_score(model, X, y, scoring='accuracy', cv=cv, n_jobs=-1)\n",
    "    return scores"
   ]
  },
  {
   "cell_type": "code",
   "execution_count": 21,
   "metadata": {},
   "outputs": [
    {
     "name": "stdout",
     "output_type": "stream",
     "text": [
      "Mean Accuracy: 0.958 (0.009)\n"
     ]
    }
   ],
   "source": [
    "class_weight = dict({0:25,1:25, 2:25, 3:1.8, 4:5,5:7,6:25,7:1,8:25,9:25,10:25,11:12,12:25,13:25,14:6})\n",
    "# define the reference model\n",
    "\n",
    "model = RandomForestClassifier(bootstrap=True, class_weight=class_weight, criterion='gini',\n",
    "              max_depth=20, max_features='auto', max_leaf_nodes=None,\n",
    "              min_impurity_decrease=0.0, min_impurity_split=None,\n",
    "              min_samples_leaf=4, min_samples_split=5,min_weight_fraction_leaf=0.0, \n",
    "              n_estimators=300, n_jobs=-1,oob_score=True,random_state=random_state,verbose=0, warm_start=False)\n",
    "                \n",
    "                \n",
    "# evaluate the model\n",
    "scores = evaluate_model(X_over, y_over, model)\n",
    "# summarize performance\n",
    "print('Mean Accuracy: %.3f (%.3f)' % (mean(scores), std(scores)))"
   ]
  },
  {
   "cell_type": "code",
   "execution_count": 22,
   "metadata": {},
   "outputs": [
    {
     "data": {
      "text/plain": [
       "RandomForestClassifier(class_weight={0: 25, 1: 25, 2: 25, 3: 1.8, 4: 5, 5: 7,\n",
       "                                     6: 25, 7: 1, 8: 25, 9: 25, 10: 25, 11: 12,\n",
       "                                     12: 25, 13: 25, 14: 6},\n",
       "                       max_depth=20, min_samples_leaf=4, min_samples_split=5,\n",
       "                       n_estimators=300, n_jobs=-1, oob_score=True,\n",
       "                       random_state=2018)"
      ]
     },
     "execution_count": 22,
     "metadata": {},
     "output_type": "execute_result"
    }
   ],
   "source": [
    "model.fit(X_over, y_over)"
   ]
  },
  {
   "cell_type": "code",
   "execution_count": 23,
   "metadata": {
    "scrolled": true
   },
   "outputs": [],
   "source": [
    "preds=model.predict(xtest)\n",
    "y_preds = model.predict_proba(xtest)"
   ]
  },
  {
   "cell_type": "code",
   "execution_count": 24,
   "metadata": {},
   "outputs": [],
   "source": [
    "from sklearn import metrics\n",
    "\n",
    "from sklearn.ensemble import RandomForestClassifier"
   ]
  },
  {
   "cell_type": "code",
   "execution_count": 25,
   "metadata": {},
   "outputs": [
    {
     "name": "stdout",
     "output_type": "stream",
     "text": [
      "              precision    recall  f1-score   support\n",
      "\n",
      "           1       1.00      1.00      1.00         1\n",
      "           2       1.00      1.00      1.00         1\n",
      "           3       0.99      1.00      0.99        68\n",
      "           4       0.82      0.96      0.88        24\n",
      "           5       0.94      0.81      0.87        21\n",
      "           6       1.00      1.00      1.00         2\n",
      "           7       0.98      1.00      0.99       127\n",
      "           9       0.00      0.00      0.00         1\n",
      "          10       1.00      0.83      0.91         6\n",
      "          11       0.88      0.88      0.88         8\n",
      "          12       1.00      1.00      1.00         1\n",
      "          13       0.00      0.00      0.00         3\n",
      "          14       0.96      0.96      0.96        23\n",
      "\n",
      "    accuracy                           0.96       286\n",
      "   macro avg       0.81      0.80      0.81       286\n",
      "weighted avg       0.95      0.96      0.95       286\n",
      "\n"
     ]
    },
    {
     "name": "stderr",
     "output_type": "stream",
     "text": [
      "/home/juanfi/anaconda3/lib/python3.7/site-packages/sklearn/metrics/_classification.py:1221: UndefinedMetricWarning: Precision and F-score are ill-defined and being set to 0.0 in labels with no predicted samples. Use `zero_division` parameter to control this behavior.\n",
      "  _warn_prf(average, modifier, msg_start, len(result))\n"
     ]
    }
   ],
   "source": [
    "print(classification_report(ytest,preds))"
   ]
  },
  {
   "cell_type": "code",
   "execution_count": 26,
   "metadata": {},
   "outputs": [
    {
     "name": "stdout",
     "output_type": "stream",
     "text": [
      "Accuracy: 0.958041958041958\n"
     ]
    }
   ],
   "source": [
    "print(\"Accuracy:\",metrics.accuracy_score(ytest, preds))"
   ]
  },
  {
   "cell_type": "code",
   "execution_count": 27,
   "metadata": {},
   "outputs": [],
   "source": [
    "from sklearn import preprocessing"
   ]
  },
  {
   "cell_type": "code",
   "execution_count": 28,
   "metadata": {},
   "outputs": [],
   "source": [
    "#Binarize the output\n",
    "y_test_bin = preprocessing.label_binarize(ytest, classes=[0,1, 2, 3, 4, 5, 6,7,8,9,10,11,12,13,14])\n",
    "n_classes = y_test_bin.shape[1]"
   ]
  },
  {
   "cell_type": "code",
   "execution_count": 29,
   "metadata": {},
   "outputs": [
    {
     "name": "stderr",
     "output_type": "stream",
     "text": [
      "/home/juanfi/anaconda3/lib/python3.7/site-packages/sklearn/metrics/_ranking.py:813: UndefinedMetricWarning: No positive samples in y_true, true positive value should be meaningless\n",
      "  UndefinedMetricWarning)\n",
      "/home/juanfi/anaconda3/lib/python3.7/site-packages/sklearn/metrics/_ranking.py:813: UndefinedMetricWarning: No positive samples in y_true, true positive value should be meaningless\n",
      "  UndefinedMetricWarning)\n"
     ]
    },
    {
     "name": "stdout",
     "output_type": "stream",
     "text": [
      "AUC for Class 1: nan\n",
      "AUC for Class 2: 1.0\n",
      "AUC for Class 3: 1.0\n",
      "AUC for Class 4: 1.0\n",
      "AUC for Class 5: 0.9939567430025446\n",
      "AUC for Class 6: 0.9965858041329739\n",
      "AUC for Class 7: 1.0\n",
      "AUC for Class 8: 0.9995047788837716\n",
      "AUC for Class 9: nan\n",
      "AUC for Class 10: 0.4614035087719298\n",
      "AUC for Class 11: 1.0\n",
      "AUC for Class 12: 0.9964028776978417\n",
      "AUC for Class 13: 1.0\n",
      "AUC for Class 14: 0.983510011778563\n",
      "AUC for Class 15: 0.9995040502562407\n"
     ]
    },
    {
     "data": {
      "image/png": "[encoded data removed]",
      "text/plain": [
       "<Figure size 432x288 with 1 Axes>"
      ]
     },
     "metadata": {
      "needs_background": "light"
     },
     "output_type": "display_data"
    }
   ],
   "source": [
    "fpr = dict()\n",
    "tpr = dict()\n",
    "roc_auc = dict()\n",
    "\n",
    "for i in range(n_classes):\n",
    "  fpr[i], tpr[i], _ = roc_curve(y_test_bin[:, i], y_preds[:, i])\n",
    "  plt.plot(fpr[i], tpr[i], color='darkorange', lw=2)\n",
    "  print('AUC for Class {}: {}'.format(i+1, auc(fpr[i], tpr[i])))\n",
    "\n",
    "plt.plot([0, 1], [0, 1], color='navy', lw=2, linestyle='--')\n",
    "plt.xlim([0.0, 1.0])\n",
    "plt.ylim([0.0, 1.05])\n",
    "plt.xlabel('False Positive Rate')\n",
    "plt.ylabel('True Positive Rate')\n",
    "plt.title('Receiver Operating Characteristic Curves')\n",
    "plt.show()"
   ]
  },
  {
   "cell_type": "markdown",
   "metadata": {},
   "source": [
    "### Preparacion TEST"
   ]
  },
  {
   "cell_type": "code",
   "execution_count": 30,
   "metadata": {},
   "outputs": [
    {
     "data": {
      "text/html": [
       "<div>\n",
       "<style scoped>\n",
       "    .dataframe tbody tr th:only-of-type {\n",
       "        vertical-align: middle;\n",
       "    }\n",
       "\n",
       "    .dataframe tbody tr th {\n",
       "        vertical-align: top;\n",
       "    }\n",
       "\n",
       "    .dataframe thead th {\n",
       "        text-align: right;\n",
       "    }\n",
       "</style>\n",
       "<table border=\"1\" class=\"dataframe\">\n",
       "  <thead>\n",
       "    <tr style=\"text-align: right;\">\n",
       "      <th></th>\n",
       "      <th>Unnamed: 0</th>\n",
       "      <th>Unnamed: 0.1</th>\n",
       "      <th>lat</th>\n",
       "      <th>lon</th>\n",
       "      <th>px</th>\n",
       "      <th>py</th>\n",
       "      <th>cultivo</th>\n",
       "      <th>camp</th>\n",
       "      <th>ARI_t1</th>\n",
       "      <th>ARVI_t1</th>\n",
       "      <th>...</th>\n",
       "      <th>MSI_t6</th>\n",
       "      <th>NBR_t6</th>\n",
       "      <th>NDII_t6</th>\n",
       "      <th>NDVI_t6</th>\n",
       "      <th>NDWI_t6</th>\n",
       "      <th>PSSR_t6</th>\n",
       "      <th>SAVI_t6</th>\n",
       "      <th>Id</th>\n",
       "      <th>Elevacion</th>\n",
       "      <th>GlobalId</th>\n",
       "    </tr>\n",
       "  </thead>\n",
       "  <tbody>\n",
       "    <tr>\n",
       "      <th>0</th>\n",
       "      <td>0</td>\n",
       "      <td>0</td>\n",
       "      <td>-33.797816</td>\n",
       "      <td>-62.150971</td>\n",
       "      <td>2704</td>\n",
       "      <td>1468</td>\n",
       "      <td>NaN</td>\n",
       "      <td>18/19</td>\n",
       "      <td>0.000152</td>\n",
       "      <td>4.338816</td>\n",
       "      <td>...</td>\n",
       "      <td>0.617794</td>\n",
       "      <td>0.532992</td>\n",
       "      <td>0.236251</td>\n",
       "      <td>0.608765</td>\n",
       "      <td>-0.529114</td>\n",
       "      <td>4.112012</td>\n",
       "      <td>0.912992</td>\n",
       "      <td>2</td>\n",
       "      <td>104.111862</td>\n",
       "      <td>2</td>\n",
       "    </tr>\n",
       "    <tr>\n",
       "      <th>1</th>\n",
       "      <td>1</td>\n",
       "      <td>1</td>\n",
       "      <td>-33.804243</td>\n",
       "      <td>-62.148934</td>\n",
       "      <td>2712</td>\n",
       "      <td>1492</td>\n",
       "      <td>NaN</td>\n",
       "      <td>18/19</td>\n",
       "      <td>0.000185</td>\n",
       "      <td>2.442672</td>\n",
       "      <td>...</td>\n",
       "      <td>0.727855</td>\n",
       "      <td>0.375918</td>\n",
       "      <td>0.157505</td>\n",
       "      <td>0.408327</td>\n",
       "      <td>-0.391324</td>\n",
       "      <td>2.380245</td>\n",
       "      <td>0.612420</td>\n",
       "      <td>3</td>\n",
       "      <td>105.698082</td>\n",
       "      <td>3</td>\n",
       "    </tr>\n",
       "    <tr>\n",
       "      <th>2</th>\n",
       "      <td>2</td>\n",
       "      <td>2</td>\n",
       "      <td>-33.812363</td>\n",
       "      <td>-62.163801</td>\n",
       "      <td>2656</td>\n",
       "      <td>1522</td>\n",
       "      <td>NaN</td>\n",
       "      <td>18/19</td>\n",
       "      <td>0.000242</td>\n",
       "      <td>2.883789</td>\n",
       "      <td>...</td>\n",
       "      <td>0.628532</td>\n",
       "      <td>0.451164</td>\n",
       "      <td>0.228100</td>\n",
       "      <td>0.635908</td>\n",
       "      <td>-0.565366</td>\n",
       "      <td>4.493110</td>\n",
       "      <td>0.953733</td>\n",
       "      <td>5</td>\n",
       "      <td>104.233162</td>\n",
       "      <td>5</td>\n",
       "    </tr>\n",
       "    <tr>\n",
       "      <th>3</th>\n",
       "      <td>3</td>\n",
       "      <td>3</td>\n",
       "      <td>-33.810439</td>\n",
       "      <td>-62.169497</td>\n",
       "      <td>2635</td>\n",
       "      <td>1515</td>\n",
       "      <td>NaN</td>\n",
       "      <td>18/19</td>\n",
       "      <td>0.000245</td>\n",
       "      <td>2.972905</td>\n",
       "      <td>...</td>\n",
       "      <td>0.631846</td>\n",
       "      <td>0.553731</td>\n",
       "      <td>0.225606</td>\n",
       "      <td>0.654689</td>\n",
       "      <td>-0.566830</td>\n",
       "      <td>4.791886</td>\n",
       "      <td>0.981917</td>\n",
       "      <td>8</td>\n",
       "      <td>103.859932</td>\n",
       "      <td>8</td>\n",
       "    </tr>\n",
       "    <tr>\n",
       "      <th>4</th>\n",
       "      <td>4</td>\n",
       "      <td>4</td>\n",
       "      <td>-33.786731</td>\n",
       "      <td>-62.114892</td>\n",
       "      <td>2838</td>\n",
       "      <td>1427</td>\n",
       "      <td>NaN</td>\n",
       "      <td>18/19</td>\n",
       "      <td>0.000157</td>\n",
       "      <td>4.887607</td>\n",
       "      <td>...</td>\n",
       "      <td>0.676384</td>\n",
       "      <td>0.395842</td>\n",
       "      <td>0.193044</td>\n",
       "      <td>0.298016</td>\n",
       "      <td>-0.283043</td>\n",
       "      <td>1.849067</td>\n",
       "      <td>0.446981</td>\n",
       "      <td>11</td>\n",
       "      <td>101.769859</td>\n",
       "      <td>11</td>\n",
       "    </tr>\n",
       "    <tr>\n",
       "      <th>...</th>\n",
       "      <td>...</td>\n",
       "      <td>...</td>\n",
       "      <td>...</td>\n",
       "      <td>...</td>\n",
       "      <td>...</td>\n",
       "      <td>...</td>\n",
       "      <td>...</td>\n",
       "      <td>...</td>\n",
       "      <td>...</td>\n",
       "      <td>...</td>\n",
       "      <td>...</td>\n",
       "      <td>...</td>\n",
       "      <td>...</td>\n",
       "      <td>...</td>\n",
       "      <td>...</td>\n",
       "      <td>...</td>\n",
       "      <td>...</td>\n",
       "      <td>...</td>\n",
       "      <td>...</td>\n",
       "      <td>...</td>\n",
       "      <td>...</td>\n",
       "    </tr>\n",
       "    <tr>\n",
       "      <th>550</th>\n",
       "      <td>550</td>\n",
       "      <td>550</td>\n",
       "      <td>-33.677379</td>\n",
       "      <td>-61.533782</td>\n",
       "      <td>4994</td>\n",
       "      <td>1021</td>\n",
       "      <td>NaN</td>\n",
       "      <td>19/20</td>\n",
       "      <td>0.000680</td>\n",
       "      <td>1.419455</td>\n",
       "      <td>...</td>\n",
       "      <td>0.546840</td>\n",
       "      <td>0.473264</td>\n",
       "      <td>0.292958</td>\n",
       "      <td>0.446032</td>\n",
       "      <td>-0.402104</td>\n",
       "      <td>2.610319</td>\n",
       "      <td>0.669002</td>\n",
       "      <td>456</td>\n",
       "      <td>92.649977</td>\n",
       "      <td>1438</td>\n",
       "    </tr>\n",
       "    <tr>\n",
       "      <th>551</th>\n",
       "      <td>551</td>\n",
       "      <td>551</td>\n",
       "      <td>-34.182192</td>\n",
       "      <td>-62.025248</td>\n",
       "      <td>3171</td>\n",
       "      <td>2895</td>\n",
       "      <td>NaN</td>\n",
       "      <td>19/20</td>\n",
       "      <td>0.000572</td>\n",
       "      <td>1.446583</td>\n",
       "      <td>...</td>\n",
       "      <td>0.680122</td>\n",
       "      <td>0.334896</td>\n",
       "      <td>0.190390</td>\n",
       "      <td>0.348646</td>\n",
       "      <td>-0.330032</td>\n",
       "      <td>2.070529</td>\n",
       "      <td>0.522927</td>\n",
       "      <td>461</td>\n",
       "      <td>-0.000023</td>\n",
       "      <td>1443</td>\n",
       "    </tr>\n",
       "    <tr>\n",
       "      <th>552</th>\n",
       "      <td>552</td>\n",
       "      <td>552</td>\n",
       "      <td>-34.006756</td>\n",
       "      <td>-61.607729</td>\n",
       "      <td>4720</td>\n",
       "      <td>2244</td>\n",
       "      <td>NaN</td>\n",
       "      <td>19/20</td>\n",
       "      <td>0.000861</td>\n",
       "      <td>1.721701</td>\n",
       "      <td>...</td>\n",
       "      <td>0.584194</td>\n",
       "      <td>0.388165</td>\n",
       "      <td>0.262472</td>\n",
       "      <td>0.404148</td>\n",
       "      <td>-0.355961</td>\n",
       "      <td>2.356540</td>\n",
       "      <td>0.606174</td>\n",
       "      <td>463</td>\n",
       "      <td>-0.000023</td>\n",
       "      <td>1445</td>\n",
       "    </tr>\n",
       "    <tr>\n",
       "      <th>553</th>\n",
       "      <td>553</td>\n",
       "      <td>553</td>\n",
       "      <td>-33.739404</td>\n",
       "      <td>-61.972923</td>\n",
       "      <td>3365</td>\n",
       "      <td>1252</td>\n",
       "      <td>NaN</td>\n",
       "      <td>19/20</td>\n",
       "      <td>0.000014</td>\n",
       "      <td>0.990485</td>\n",
       "      <td>...</td>\n",
       "      <td>0.927107</td>\n",
       "      <td>0.090399</td>\n",
       "      <td>0.037825</td>\n",
       "      <td>0.109089</td>\n",
       "      <td>-0.126090</td>\n",
       "      <td>1.244893</td>\n",
       "      <td>0.163620</td>\n",
       "      <td>468</td>\n",
       "      <td>-0.000023</td>\n",
       "      <td>1450</td>\n",
       "    </tr>\n",
       "    <tr>\n",
       "      <th>554</th>\n",
       "      <td>554</td>\n",
       "      <td>554</td>\n",
       "      <td>-33.832244</td>\n",
       "      <td>-62.112892</td>\n",
       "      <td>2845</td>\n",
       "      <td>1596</td>\n",
       "      <td>NaN</td>\n",
       "      <td>19/20</td>\n",
       "      <td>0.000239</td>\n",
       "      <td>0.797841</td>\n",
       "      <td>...</td>\n",
       "      <td>0.598098</td>\n",
       "      <td>0.366872</td>\n",
       "      <td>0.251487</td>\n",
       "      <td>0.300081</td>\n",
       "      <td>-0.293939</td>\n",
       "      <td>1.857474</td>\n",
       "      <td>0.450049</td>\n",
       "      <td>472</td>\n",
       "      <td>-0.000023</td>\n",
       "      <td>1454</td>\n",
       "    </tr>\n",
       "  </tbody>\n",
       "</table>\n",
       "<p>555 rows × 83 columns</p>\n",
       "</div>"
      ],
      "text/plain": [
       "     Unnamed: 0  Unnamed: 0.1        lat        lon    px    py  cultivo  \\\n",
       "0             0             0 -33.797816 -62.150971  2704  1468      NaN   \n",
       "1             1             1 -33.804243 -62.148934  2712  1492      NaN   \n",
       "2             2             2 -33.812363 -62.163801  2656  1522      NaN   \n",
       "3             3             3 -33.810439 -62.169497  2635  1515      NaN   \n",
       "4             4             4 -33.786731 -62.114892  2838  1427      NaN   \n",
       "..          ...           ...        ...        ...   ...   ...      ...   \n",
       "550         550           550 -33.677379 -61.533782  4994  1021      NaN   \n",
       "551         551           551 -34.182192 -62.025248  3171  2895      NaN   \n",
       "552         552           552 -34.006756 -61.607729  4720  2244      NaN   \n",
       "553         553           553 -33.739404 -61.972923  3365  1252      NaN   \n",
       "554         554           554 -33.832244 -62.112892  2845  1596      NaN   \n",
       "\n",
       "      camp    ARI_t1   ARVI_t1  ...    MSI_t6    NBR_t6   NDII_t6   NDVI_t6  \\\n",
       "0    18/19  0.000152  4.338816  ...  0.617794  0.532992  0.236251  0.608765   \n",
       "1    18/19  0.000185  2.442672  ...  0.727855  0.375918  0.157505  0.408327   \n",
       "2    18/19  0.000242  2.883789  ...  0.628532  0.451164  0.228100  0.635908   \n",
       "3    18/19  0.000245  2.972905  ...  0.631846  0.553731  0.225606  0.654689   \n",
       "4    18/19  0.000157  4.887607  ...  0.676384  0.395842  0.193044  0.298016   \n",
       "..     ...       ...       ...  ...       ...       ...       ...       ...   \n",
       "550  19/20  0.000680  1.419455  ...  0.546840  0.473264  0.292958  0.446032   \n",
       "551  19/20  0.000572  1.446583  ...  0.680122  0.334896  0.190390  0.348646   \n",
       "552  19/20  0.000861  1.721701  ...  0.584194  0.388165  0.262472  0.404148   \n",
       "553  19/20  0.000014  0.990485  ...  0.927107  0.090399  0.037825  0.109089   \n",
       "554  19/20  0.000239  0.797841  ...  0.598098  0.366872  0.251487  0.300081   \n",
       "\n",
       "      NDWI_t6   PSSR_t6   SAVI_t6   Id   Elevacion  GlobalId  \n",
       "0   -0.529114  4.112012  0.912992    2  104.111862         2  \n",
       "1   -0.391324  2.380245  0.612420    3  105.698082         3  \n",
       "2   -0.565366  4.493110  0.953733    5  104.233162         5  \n",
       "3   -0.566830  4.791886  0.981917    8  103.859932         8  \n",
       "4   -0.283043  1.849067  0.446981   11  101.769859        11  \n",
       "..        ...       ...       ...  ...         ...       ...  \n",
       "550 -0.402104  2.610319  0.669002  456   92.649977      1438  \n",
       "551 -0.330032  2.070529  0.522927  461   -0.000023      1443  \n",
       "552 -0.355961  2.356540  0.606174  463   -0.000023      1445  \n",
       "553 -0.126090  1.244893  0.163620  468   -0.000023      1450  \n",
       "554 -0.293939  1.857474  0.450049  472   -0.000023      1454  \n",
       "\n",
       "[555 rows x 83 columns]"
      ]
     },
     "execution_count": 30,
     "metadata": {},
     "output_type": "execute_result"
    }
   ],
   "source": [
    "df_test"
   ]
  },
  {
   "cell_type": "code",
   "execution_count": 31,
   "metadata": {},
   "outputs": [
    {
     "data": {
      "text/plain": [
       "Index(['Unnamed: 0', 'Unnamed: 0.1', 'lat', 'lon', 'px', 'py', 'cultivo',\n",
       "       'camp', 'ARI_t1', 'ARVI_t1', 'CHL-RED-EDGE_t1', 'GNDVI_t1', 'MCARI_t1',\n",
       "       'MSI_t1', 'NBR_t1', 'NDII_t1', 'NDVI_t1', 'NDWI_t1', 'PSSR_t1',\n",
       "       'SAVI_t1', 'ARI_t2', 'ARVI_t2', 'CHL-RED-EDGE_t2', 'GNDVI_t2',\n",
       "       'MCARI_t2', 'MSI_t2', 'NBR_t2', 'NDII_t2', 'NDVI_t2', 'NDWI_t2',\n",
       "       'PSSR_t2', 'SAVI_t2', 'ARI_t3', 'ARVI_t3', 'CHL-RED-EDGE_t3',\n",
       "       'GNDVI_t3', 'MCARI_t3', 'MSI_t3', 'NBR_t3', 'NDII_t3', 'NDVI_t3',\n",
       "       'NDWI_t3', 'PSSR_t3', 'SAVI_t3', 'ARI_t4', 'ARVI_t4', 'CHL-RED-EDGE_t4',\n",
       "       'GNDVI_t4', 'MCARI_t4', 'MSI_t4', 'NBR_t4', 'NDII_t4', 'NDVI_t4',\n",
       "       'NDWI_t4', 'PSSR_t4', 'SAVI_t4', 'ARI_t5', 'ARVI_t5', 'CHL-RED-EDGE_t5',\n",
       "       'GNDVI_t5', 'MCARI_t5', 'MSI_t5', 'NBR_t5', 'NDII_t5', 'NDVI_t5',\n",
       "       'NDWI_t5', 'PSSR_t5', 'SAVI_t5', 'ARI_t6', 'ARVI_t6', 'CHL-RED-EDGE_t6',\n",
       "       'GNDVI_t6', 'MCARI_t6', 'MSI_t6', 'NBR_t6', 'NDII_t6', 'NDVI_t6',\n",
       "       'NDWI_t6', 'PSSR_t6', 'SAVI_t6', 'Id', 'Elevacion', 'GlobalId'],\n",
       "      dtype='object')"
      ]
     },
     "execution_count": 31,
     "metadata": {},
     "output_type": "execute_result"
    }
   ],
   "source": [
    "df_test.columns"
   ]
  },
  {
   "cell_type": "code",
   "execution_count": 32,
   "metadata": {},
   "outputs": [],
   "source": [
    "colstoexclude = ['Unnamed: 0','Unnamed: 0.1', 'lat', 'lon', 'px', 'py', 'cultivo', 'camp', 'Id', 'Elevacion', 'GlobalId']\n",
    "\n",
    "X_test =df_test[[col for col in df_test.columns if col not in colstoexclude]]"
   ]
  },
  {
   "cell_type": "code",
   "execution_count": 83,
   "metadata": {},
   "outputs": [
    {
     "data": {
      "text/html": [
       "<div>\n",
       "<style scoped>\n",
       "    .dataframe tbody tr th:only-of-type {\n",
       "        vertical-align: middle;\n",
       "    }\n",
       "\n",
       "    .dataframe tbody tr th {\n",
       "        vertical-align: top;\n",
       "    }\n",
       "\n",
       "    .dataframe thead th {\n",
       "        text-align: right;\n",
       "    }\n",
       "</style>\n",
       "<table border=\"1\" class=\"dataframe\">\n",
       "  <thead>\n",
       "    <tr style=\"text-align: right;\">\n",
       "      <th></th>\n",
       "      <th>ARI_t1</th>\n",
       "      <th>ARVI_t1</th>\n",
       "      <th>CHL-RED-EDGE_t1</th>\n",
       "      <th>GNDVI_t1</th>\n",
       "      <th>MCARI_t1</th>\n",
       "      <th>MSI_t1</th>\n",
       "      <th>NBR_t1</th>\n",
       "      <th>NDII_t1</th>\n",
       "      <th>NDVI_t1</th>\n",
       "      <th>NDWI_t1</th>\n",
       "      <th>...</th>\n",
       "      <th>CHL-RED-EDGE_t6</th>\n",
       "      <th>GNDVI_t6</th>\n",
       "      <th>MCARI_t6</th>\n",
       "      <th>MSI_t6</th>\n",
       "      <th>NBR_t6</th>\n",
       "      <th>NDII_t6</th>\n",
       "      <th>NDVI_t6</th>\n",
       "      <th>NDWI_t6</th>\n",
       "      <th>PSSR_t6</th>\n",
       "      <th>SAVI_t6</th>\n",
       "    </tr>\n",
       "  </thead>\n",
       "  <tbody>\n",
       "    <tr>\n",
       "      <th>0</th>\n",
       "      <td>0.000152</td>\n",
       "      <td>4.338816</td>\n",
       "      <td>5.934317e-07</td>\n",
       "      <td>0.265324</td>\n",
       "      <td>184.519756</td>\n",
       "      <td>1.540911</td>\n",
       "      <td>-0.015753</td>\n",
       "      <td>-0.212881</td>\n",
       "      <td>0.281796</td>\n",
       "      <td>-0.265324</td>\n",
       "      <td>...</td>\n",
       "      <td>5.292766e-07</td>\n",
       "      <td>0.529114</td>\n",
       "      <td>258.064641</td>\n",
       "      <td>0.617794</td>\n",
       "      <td>0.532992</td>\n",
       "      <td>0.236251</td>\n",
       "      <td>0.608765</td>\n",
       "      <td>-0.529114</td>\n",
       "      <td>4.112012</td>\n",
       "      <td>0.912992</td>\n",
       "    </tr>\n",
       "    <tr>\n",
       "      <th>1</th>\n",
       "      <td>0.000185</td>\n",
       "      <td>2.442672</td>\n",
       "      <td>2.905603e-07</td>\n",
       "      <td>0.228792</td>\n",
       "      <td>97.579186</td>\n",
       "      <td>1.434256</td>\n",
       "      <td>0.007376</td>\n",
       "      <td>-0.178394</td>\n",
       "      <td>0.149215</td>\n",
       "      <td>-0.228792</td>\n",
       "      <td>...</td>\n",
       "      <td>2.047866e-07</td>\n",
       "      <td>0.391324</td>\n",
       "      <td>268.301095</td>\n",
       "      <td>0.727855</td>\n",
       "      <td>0.375918</td>\n",
       "      <td>0.157505</td>\n",
       "      <td>0.408327</td>\n",
       "      <td>-0.391324</td>\n",
       "      <td>2.380245</td>\n",
       "      <td>0.612420</td>\n",
       "    </tr>\n",
       "    <tr>\n",
       "      <th>2</th>\n",
       "      <td>0.000242</td>\n",
       "      <td>2.883789</td>\n",
       "      <td>3.454897e-07</td>\n",
       "      <td>0.423868</td>\n",
       "      <td>274.343019</td>\n",
       "      <td>0.983688</td>\n",
       "      <td>0.263032</td>\n",
       "      <td>0.008223</td>\n",
       "      <td>0.413886</td>\n",
       "      <td>-0.423868</td>\n",
       "      <td>...</td>\n",
       "      <td>3.537155e-07</td>\n",
       "      <td>0.565366</td>\n",
       "      <td>279.646867</td>\n",
       "      <td>0.628532</td>\n",
       "      <td>0.451164</td>\n",
       "      <td>0.228100</td>\n",
       "      <td>0.635908</td>\n",
       "      <td>-0.565366</td>\n",
       "      <td>4.493110</td>\n",
       "      <td>0.953733</td>\n",
       "    </tr>\n",
       "    <tr>\n",
       "      <th>3</th>\n",
       "      <td>0.000245</td>\n",
       "      <td>2.972905</td>\n",
       "      <td>2.710984e-07</td>\n",
       "      <td>0.361499</td>\n",
       "      <td>298.883616</td>\n",
       "      <td>1.093302</td>\n",
       "      <td>0.202930</td>\n",
       "      <td>-0.044572</td>\n",
       "      <td>0.321290</td>\n",
       "      <td>-0.361499</td>\n",
       "      <td>...</td>\n",
       "      <td>2.364145e-07</td>\n",
       "      <td>0.566830</td>\n",
       "      <td>662.650424</td>\n",
       "      <td>0.631846</td>\n",
       "      <td>0.553731</td>\n",
       "      <td>0.225606</td>\n",
       "      <td>0.654689</td>\n",
       "      <td>-0.566830</td>\n",
       "      <td>4.791886</td>\n",
       "      <td>0.981917</td>\n",
       "    </tr>\n",
       "    <tr>\n",
       "      <th>4</th>\n",
       "      <td>0.000157</td>\n",
       "      <td>4.887607</td>\n",
       "      <td>6.462192e-07</td>\n",
       "      <td>0.225332</td>\n",
       "      <td>243.411926</td>\n",
       "      <td>0.854199</td>\n",
       "      <td>0.316090</td>\n",
       "      <td>0.078633</td>\n",
       "      <td>0.265453</td>\n",
       "      <td>-0.225332</td>\n",
       "      <td>...</td>\n",
       "      <td>1.319091e-07</td>\n",
       "      <td>0.283043</td>\n",
       "      <td>340.259380</td>\n",
       "      <td>0.676384</td>\n",
       "      <td>0.395842</td>\n",
       "      <td>0.193044</td>\n",
       "      <td>0.298016</td>\n",
       "      <td>-0.283043</td>\n",
       "      <td>1.849067</td>\n",
       "      <td>0.446981</td>\n",
       "    </tr>\n",
       "    <tr>\n",
       "      <th>...</th>\n",
       "      <td>...</td>\n",
       "      <td>...</td>\n",
       "      <td>...</td>\n",
       "      <td>...</td>\n",
       "      <td>...</td>\n",
       "      <td>...</td>\n",
       "      <td>...</td>\n",
       "      <td>...</td>\n",
       "      <td>...</td>\n",
       "      <td>...</td>\n",
       "      <td>...</td>\n",
       "      <td>...</td>\n",
       "      <td>...</td>\n",
       "      <td>...</td>\n",
       "      <td>...</td>\n",
       "      <td>...</td>\n",
       "      <td>...</td>\n",
       "      <td>...</td>\n",
       "      <td>...</td>\n",
       "      <td>...</td>\n",
       "      <td>...</td>\n",
       "    </tr>\n",
       "    <tr>\n",
       "      <th>550</th>\n",
       "      <td>0.000680</td>\n",
       "      <td>1.419455</td>\n",
       "      <td>3.196868e-07</td>\n",
       "      <td>0.669318</td>\n",
       "      <td>1715.662141</td>\n",
       "      <td>0.633201</td>\n",
       "      <td>0.457513</td>\n",
       "      <td>0.224589</td>\n",
       "      <td>0.783034</td>\n",
       "      <td>-0.669318</td>\n",
       "      <td>...</td>\n",
       "      <td>7.800855e-08</td>\n",
       "      <td>0.402104</td>\n",
       "      <td>645.357811</td>\n",
       "      <td>0.546840</td>\n",
       "      <td>0.473264</td>\n",
       "      <td>0.292958</td>\n",
       "      <td>0.446032</td>\n",
       "      <td>-0.402104</td>\n",
       "      <td>2.610319</td>\n",
       "      <td>0.669002</td>\n",
       "    </tr>\n",
       "    <tr>\n",
       "      <th>551</th>\n",
       "      <td>0.000572</td>\n",
       "      <td>1.446583</td>\n",
       "      <td>5.508695e-07</td>\n",
       "      <td>0.529728</td>\n",
       "      <td>444.012060</td>\n",
       "      <td>0.963892</td>\n",
       "      <td>0.189028</td>\n",
       "      <td>0.018386</td>\n",
       "      <td>0.539174</td>\n",
       "      <td>-0.529728</td>\n",
       "      <td>...</td>\n",
       "      <td>1.016777e-07</td>\n",
       "      <td>0.330032</td>\n",
       "      <td>436.016421</td>\n",
       "      <td>0.680122</td>\n",
       "      <td>0.334896</td>\n",
       "      <td>0.190390</td>\n",
       "      <td>0.348646</td>\n",
       "      <td>-0.330032</td>\n",
       "      <td>2.070529</td>\n",
       "      <td>0.522927</td>\n",
       "    </tr>\n",
       "    <tr>\n",
       "      <th>552</th>\n",
       "      <td>0.000861</td>\n",
       "      <td>1.721701</td>\n",
       "      <td>6.421484e-07</td>\n",
       "      <td>0.652349</td>\n",
       "      <td>807.399729</td>\n",
       "      <td>0.610841</td>\n",
       "      <td>0.441327</td>\n",
       "      <td>0.241588</td>\n",
       "      <td>0.719285</td>\n",
       "      <td>-0.652349</td>\n",
       "      <td>...</td>\n",
       "      <td>9.457670e-08</td>\n",
       "      <td>0.355961</td>\n",
       "      <td>752.628281</td>\n",
       "      <td>0.584194</td>\n",
       "      <td>0.388165</td>\n",
       "      <td>0.262472</td>\n",
       "      <td>0.404148</td>\n",
       "      <td>-0.355961</td>\n",
       "      <td>2.356540</td>\n",
       "      <td>0.606174</td>\n",
       "    </tr>\n",
       "    <tr>\n",
       "      <th>553</th>\n",
       "      <td>0.000014</td>\n",
       "      <td>0.990485</td>\n",
       "      <td>1.880815e-07</td>\n",
       "      <td>0.105877</td>\n",
       "      <td>-76.044788</td>\n",
       "      <td>1.059789</td>\n",
       "      <td>0.028330</td>\n",
       "      <td>-0.029027</td>\n",
       "      <td>0.076114</td>\n",
       "      <td>-0.105877</td>\n",
       "      <td>...</td>\n",
       "      <td>9.417794e-08</td>\n",
       "      <td>0.126090</td>\n",
       "      <td>82.978385</td>\n",
       "      <td>0.927107</td>\n",
       "      <td>0.090399</td>\n",
       "      <td>0.037825</td>\n",
       "      <td>0.109089</td>\n",
       "      <td>-0.126090</td>\n",
       "      <td>1.244893</td>\n",
       "      <td>0.163620</td>\n",
       "    </tr>\n",
       "    <tr>\n",
       "      <th>554</th>\n",
       "      <td>0.000239</td>\n",
       "      <td>0.797841</td>\n",
       "      <td>5.938479e-07</td>\n",
       "      <td>0.216595</td>\n",
       "      <td>117.867087</td>\n",
       "      <td>1.197536</td>\n",
       "      <td>0.006775</td>\n",
       "      <td>-0.089890</td>\n",
       "      <td>0.160402</td>\n",
       "      <td>-0.216595</td>\n",
       "      <td>...</td>\n",
       "      <td>3.481257e-07</td>\n",
       "      <td>0.293939</td>\n",
       "      <td>377.361550</td>\n",
       "      <td>0.598098</td>\n",
       "      <td>0.366872</td>\n",
       "      <td>0.251487</td>\n",
       "      <td>0.300081</td>\n",
       "      <td>-0.293939</td>\n",
       "      <td>1.857474</td>\n",
       "      <td>0.450049</td>\n",
       "    </tr>\n",
       "  </tbody>\n",
       "</table>\n",
       "<p>555 rows × 72 columns</p>\n",
       "</div>"
      ],
      "text/plain": [
       "       ARI_t1   ARVI_t1  CHL-RED-EDGE_t1  GNDVI_t1     MCARI_t1    MSI_t1  \\\n",
       "0    0.000152  4.338816     5.934317e-07  0.265324   184.519756  1.540911   \n",
       "1    0.000185  2.442672     2.905603e-07  0.228792    97.579186  1.434256   \n",
       "2    0.000242  2.883789     3.454897e-07  0.423868   274.343019  0.983688   \n",
       "3    0.000245  2.972905     2.710984e-07  0.361499   298.883616  1.093302   \n",
       "4    0.000157  4.887607     6.462192e-07  0.225332   243.411926  0.854199   \n",
       "..        ...       ...              ...       ...          ...       ...   \n",
       "550  0.000680  1.419455     3.196868e-07  0.669318  1715.662141  0.633201   \n",
       "551  0.000572  1.446583     5.508695e-07  0.529728   444.012060  0.963892   \n",
       "552  0.000861  1.721701     6.421484e-07  0.652349   807.399729  0.610841   \n",
       "553  0.000014  0.990485     1.880815e-07  0.105877   -76.044788  1.059789   \n",
       "554  0.000239  0.797841     5.938479e-07  0.216595   117.867087  1.197536   \n",
       "\n",
       "       NBR_t1   NDII_t1   NDVI_t1   NDWI_t1  ...  CHL-RED-EDGE_t6  GNDVI_t6  \\\n",
       "0   -0.015753 -0.212881  0.281796 -0.265324  ...     5.292766e-07  0.529114   \n",
       "1    0.007376 -0.178394  0.149215 -0.228792  ...     2.047866e-07  0.391324   \n",
       "2    0.263032  0.008223  0.413886 -0.423868  ...     3.537155e-07  0.565366   \n",
       "3    0.202930 -0.044572  0.321290 -0.361499  ...     2.364145e-07  0.566830   \n",
       "4    0.316090  0.078633  0.265453 -0.225332  ...     1.319091e-07  0.283043   \n",
       "..        ...       ...       ...       ...  ...              ...       ...   \n",
       "550  0.457513  0.224589  0.783034 -0.669318  ...     7.800855e-08  0.402104   \n",
       "551  0.189028  0.018386  0.539174 -0.529728  ...     1.016777e-07  0.330032   \n",
       "552  0.441327  0.241588  0.719285 -0.652349  ...     9.457670e-08  0.355961   \n",
       "553  0.028330 -0.029027  0.076114 -0.105877  ...     9.417794e-08  0.126090   \n",
       "554  0.006775 -0.089890  0.160402 -0.216595  ...     3.481257e-07  0.293939   \n",
       "\n",
       "       MCARI_t6    MSI_t6    NBR_t6   NDII_t6   NDVI_t6   NDWI_t6   PSSR_t6  \\\n",
       "0    258.064641  0.617794  0.532992  0.236251  0.608765 -0.529114  4.112012   \n",
       "1    268.301095  0.727855  0.375918  0.157505  0.408327 -0.391324  2.380245   \n",
       "2    279.646867  0.628532  0.451164  0.228100  0.635908 -0.565366  4.493110   \n",
       "3    662.650424  0.631846  0.553731  0.225606  0.654689 -0.566830  4.791886   \n",
       "4    340.259380  0.676384  0.395842  0.193044  0.298016 -0.283043  1.849067   \n",
       "..          ...       ...       ...       ...       ...       ...       ...   \n",
       "550  645.357811  0.546840  0.473264  0.292958  0.446032 -0.402104  2.610319   \n",
       "551  436.016421  0.680122  0.334896  0.190390  0.348646 -0.330032  2.070529   \n",
       "552  752.628281  0.584194  0.388165  0.262472  0.404148 -0.355961  2.356540   \n",
       "553   82.978385  0.927107  0.090399  0.037825  0.109089 -0.126090  1.244893   \n",
       "554  377.361550  0.598098  0.366872  0.251487  0.300081 -0.293939  1.857474   \n",
       "\n",
       "      SAVI_t6  \n",
       "0    0.912992  \n",
       "1    0.612420  \n",
       "2    0.953733  \n",
       "3    0.981917  \n",
       "4    0.446981  \n",
       "..        ...  \n",
       "550  0.669002  \n",
       "551  0.522927  \n",
       "552  0.606174  \n",
       "553  0.163620  \n",
       "554  0.450049  \n",
       "\n",
       "[555 rows x 72 columns]"
      ]
     },
     "execution_count": 83,
     "metadata": {},
     "output_type": "execute_result"
    }
   ],
   "source": [
    "X_test"
   ]
  },
  {
   "cell_type": "markdown",
   "metadata": {},
   "source": [
    "### Escalado"
   ]
  },
  {
   "cell_type": "code",
   "execution_count": 84,
   "metadata": {},
   "outputs": [],
   "source": [
    "scaler = RobustScaler()\n",
    "X_test_scaled = scaler.fit_transform(X_test)\n",
    "\n",
    "X_test_scaled =pd.DataFrame(X_test_scaled) \n",
    "\n",
    "X_test_scaled.columns = X_test.columns"
   ]
  },
  {
   "cell_type": "code",
   "execution_count": 85,
   "metadata": {
    "scrolled": true
   },
   "outputs": [
    {
     "data": {
      "text/html": [
       "<div>\n",
       "<style scoped>\n",
       "    .dataframe tbody tr th:only-of-type {\n",
       "        vertical-align: middle;\n",
       "    }\n",
       "\n",
       "    .dataframe tbody tr th {\n",
       "        vertical-align: top;\n",
       "    }\n",
       "\n",
       "    .dataframe thead th {\n",
       "        text-align: right;\n",
       "    }\n",
       "</style>\n",
       "<table border=\"1\" class=\"dataframe\">\n",
       "  <thead>\n",
       "    <tr style=\"text-align: right;\">\n",
       "      <th></th>\n",
       "      <th>ARI_t1</th>\n",
       "      <th>ARVI_t1</th>\n",
       "      <th>CHL-RED-EDGE_t1</th>\n",
       "      <th>GNDVI_t1</th>\n",
       "      <th>MCARI_t1</th>\n",
       "      <th>MSI_t1</th>\n",
       "      <th>NBR_t1</th>\n",
       "      <th>NDII_t1</th>\n",
       "      <th>NDVI_t1</th>\n",
       "      <th>NDWI_t1</th>\n",
       "      <th>...</th>\n",
       "      <th>CHL-RED-EDGE_t6</th>\n",
       "      <th>GNDVI_t6</th>\n",
       "      <th>MCARI_t6</th>\n",
       "      <th>MSI_t6</th>\n",
       "      <th>NBR_t6</th>\n",
       "      <th>NDII_t6</th>\n",
       "      <th>NDVI_t6</th>\n",
       "      <th>NDWI_t6</th>\n",
       "      <th>PSSR_t6</th>\n",
       "      <th>SAVI_t6</th>\n",
       "    </tr>\n",
       "  </thead>\n",
       "  <tbody>\n",
       "    <tr>\n",
       "      <th>0</th>\n",
       "      <td>-0.761794</td>\n",
       "      <td>2.042529</td>\n",
       "      <td>0.841697</td>\n",
       "      <td>-0.439576</td>\n",
       "      <td>-0.041760</td>\n",
       "      <td>0.060303</td>\n",
       "      <td>0.112665</td>\n",
       "      <td>-0.055921</td>\n",
       "      <td>0.087810</td>\n",
       "      <td>0.439576</td>\n",
       "      <td>...</td>\n",
       "      <td>2.982053</td>\n",
       "      <td>0.134392</td>\n",
       "      <td>-1.095916</td>\n",
       "      <td>0.374948</td>\n",
       "      <td>0.093231</td>\n",
       "      <td>-0.367216</td>\n",
       "      <td>0.218482</td>\n",
       "      <td>-0.134392</td>\n",
       "      <td>0.215592</td>\n",
       "      <td>0.218248</td>\n",
       "    </tr>\n",
       "    <tr>\n",
       "      <th>1</th>\n",
       "      <td>-0.643734</td>\n",
       "      <td>0.507553</td>\n",
       "      <td>-0.655408</td>\n",
       "      <td>-0.647946</td>\n",
       "      <td>-0.404078</td>\n",
       "      <td>-0.147956</td>\n",
       "      <td>0.214989</td>\n",
       "      <td>0.143215</td>\n",
       "      <td>-0.640418</td>\n",
       "      <td>0.647946</td>\n",
       "      <td>...</td>\n",
       "      <td>0.342247</td>\n",
       "      <td>-0.504599</td>\n",
       "      <td>-1.061637</td>\n",
       "      <td>0.888197</td>\n",
       "      <td>-0.616981</td>\n",
       "      <td>-0.814471</td>\n",
       "      <td>-0.544988</td>\n",
       "      <td>0.504599</td>\n",
       "      <td>-0.355598</td>\n",
       "      <td>-0.545111</td>\n",
       "    </tr>\n",
       "    <tr>\n",
       "      <th>2</th>\n",
       "      <td>-0.439880</td>\n",
       "      <td>0.864648</td>\n",
       "      <td>-0.383889</td>\n",
       "      <td>0.464723</td>\n",
       "      <td>0.332572</td>\n",
       "      <td>-1.027764</td>\n",
       "      <td>1.346028</td>\n",
       "      <td>1.220790</td>\n",
       "      <td>0.813340</td>\n",
       "      <td>-0.464723</td>\n",
       "      <td>...</td>\n",
       "      <td>1.553820</td>\n",
       "      <td>0.302509</td>\n",
       "      <td>-1.023644</td>\n",
       "      <td>0.425024</td>\n",
       "      <td>-0.276753</td>\n",
       "      <td>-0.413514</td>\n",
       "      <td>0.321870</td>\n",
       "      <td>-0.302509</td>\n",
       "      <td>0.341290</td>\n",
       "      <td>0.321718</td>\n",
       "    </tr>\n",
       "    <tr>\n",
       "      <th>3</th>\n",
       "      <td>-0.427910</td>\n",
       "      <td>0.936789</td>\n",
       "      <td>-0.751609</td>\n",
       "      <td>0.108988</td>\n",
       "      <td>0.434843</td>\n",
       "      <td>-0.813724</td>\n",
       "      <td>1.080132</td>\n",
       "      <td>0.915939</td>\n",
       "      <td>0.304738</td>\n",
       "      <td>-0.108988</td>\n",
       "      <td>...</td>\n",
       "      <td>0.599547</td>\n",
       "      <td>0.309297</td>\n",
       "      <td>0.258919</td>\n",
       "      <td>0.440476</td>\n",
       "      <td>0.187003</td>\n",
       "      <td>-0.427678</td>\n",
       "      <td>0.393411</td>\n",
       "      <td>-0.309297</td>\n",
       "      <td>0.439835</td>\n",
       "      <td>0.393297</td>\n",
       "    </tr>\n",
       "    <tr>\n",
       "      <th>4</th>\n",
       "      <td>-0.744283</td>\n",
       "      <td>2.486788</td>\n",
       "      <td>1.102627</td>\n",
       "      <td>-0.667678</td>\n",
       "      <td>0.203669</td>\n",
       "      <td>-1.280612</td>\n",
       "      <td>1.580760</td>\n",
       "      <td>1.627356</td>\n",
       "      <td>-0.001959</td>\n",
       "      <td>0.667678</td>\n",
       "      <td>...</td>\n",
       "      <td>-0.250630</td>\n",
       "      <td>-1.006747</td>\n",
       "      <td>-0.820671</td>\n",
       "      <td>0.648172</td>\n",
       "      <td>-0.526895</td>\n",
       "      <td>-0.612619</td>\n",
       "      <td>-0.965165</td>\n",
       "      <td>1.006747</td>\n",
       "      <td>-0.530797</td>\n",
       "      <td>-0.965273</td>\n",
       "    </tr>\n",
       "    <tr>\n",
       "      <th>...</th>\n",
       "      <td>...</td>\n",
       "      <td>...</td>\n",
       "      <td>...</td>\n",
       "      <td>...</td>\n",
       "      <td>...</td>\n",
       "      <td>...</td>\n",
       "      <td>...</td>\n",
       "      <td>...</td>\n",
       "      <td>...</td>\n",
       "      <td>...</td>\n",
       "      <td>...</td>\n",
       "      <td>...</td>\n",
       "      <td>...</td>\n",
       "      <td>...</td>\n",
       "      <td>...</td>\n",
       "      <td>...</td>\n",
       "      <td>...</td>\n",
       "      <td>...</td>\n",
       "      <td>...</td>\n",
       "      <td>...</td>\n",
       "      <td>...</td>\n",
       "    </tr>\n",
       "    <tr>\n",
       "      <th>550</th>\n",
       "      <td>1.123179</td>\n",
       "      <td>-0.320767</td>\n",
       "      <td>-0.511434</td>\n",
       "      <td>1.864718</td>\n",
       "      <td>6.339161</td>\n",
       "      <td>-1.712146</td>\n",
       "      <td>2.206427</td>\n",
       "      <td>2.470144</td>\n",
       "      <td>2.840950</td>\n",
       "      <td>-1.864718</td>\n",
       "      <td>...</td>\n",
       "      <td>-0.689124</td>\n",
       "      <td>-0.454610</td>\n",
       "      <td>0.201012</td>\n",
       "      <td>0.044068</td>\n",
       "      <td>-0.176828</td>\n",
       "      <td>-0.045139</td>\n",
       "      <td>-0.401368</td>\n",
       "      <td>0.454610</td>\n",
       "      <td>-0.279713</td>\n",
       "      <td>-0.401410</td>\n",
       "    </tr>\n",
       "    <tr>\n",
       "      <th>551</th>\n",
       "      <td>0.738938</td>\n",
       "      <td>-0.298806</td>\n",
       "      <td>0.631310</td>\n",
       "      <td>1.068524</td>\n",
       "      <td>1.039655</td>\n",
       "      <td>-1.066419</td>\n",
       "      <td>1.018629</td>\n",
       "      <td>1.279474</td>\n",
       "      <td>1.501506</td>\n",
       "      <td>-1.068524</td>\n",
       "      <td>...</td>\n",
       "      <td>-0.496570</td>\n",
       "      <td>-0.788838</td>\n",
       "      <td>-0.500009</td>\n",
       "      <td>0.665603</td>\n",
       "      <td>-0.802461</td>\n",
       "      <td>-0.627694</td>\n",
       "      <td>-0.772312</td>\n",
       "      <td>0.788838</td>\n",
       "      <td>-0.457752</td>\n",
       "      <td>-0.772394</td>\n",
       "    </tr>\n",
       "    <tr>\n",
       "      <th>552</th>\n",
       "      <td>1.769957</td>\n",
       "      <td>-0.076091</td>\n",
       "      <td>1.082505</td>\n",
       "      <td>1.767927</td>\n",
       "      <td>2.554046</td>\n",
       "      <td>-1.755808</td>\n",
       "      <td>2.134815</td>\n",
       "      <td>2.568298</td>\n",
       "      <td>2.490799</td>\n",
       "      <td>-1.767927</td>\n",
       "      <td>...</td>\n",
       "      <td>-0.554338</td>\n",
       "      <td>-0.668594</td>\n",
       "      <td>0.560228</td>\n",
       "      <td>0.218260</td>\n",
       "      <td>-0.561606</td>\n",
       "      <td>-0.218293</td>\n",
       "      <td>-0.560905</td>\n",
       "      <td>0.668594</td>\n",
       "      <td>-0.363417</td>\n",
       "      <td>-0.560974</td>\n",
       "    </tr>\n",
       "    <tr>\n",
       "      <th>553</th>\n",
       "      <td>-1.252806</td>\n",
       "      <td>-0.668029</td>\n",
       "      <td>-1.161964</td>\n",
       "      <td>-1.349022</td>\n",
       "      <td>-1.127643</td>\n",
       "      <td>-0.879164</td>\n",
       "      <td>0.307691</td>\n",
       "      <td>1.005700</td>\n",
       "      <td>-1.041936</td>\n",
       "      <td>1.349022</td>\n",
       "      <td>...</td>\n",
       "      <td>-0.557582</td>\n",
       "      <td>-1.734601</td>\n",
       "      <td>-1.682227</td>\n",
       "      <td>1.817373</td>\n",
       "      <td>-1.907963</td>\n",
       "      <td>-1.494211</td>\n",
       "      <td>-1.684792</td>\n",
       "      <td>1.734601</td>\n",
       "      <td>-0.730072</td>\n",
       "      <td>-1.684920</td>\n",
       "    </tr>\n",
       "    <tr>\n",
       "      <th>554</th>\n",
       "      <td>-0.448286</td>\n",
       "      <td>-0.823978</td>\n",
       "      <td>0.843754</td>\n",
       "      <td>-0.717514</td>\n",
       "      <td>-0.319530</td>\n",
       "      <td>-0.610190</td>\n",
       "      <td>0.212327</td>\n",
       "      <td>0.654259</td>\n",
       "      <td>-0.578969</td>\n",
       "      <td>0.717514</td>\n",
       "      <td>...</td>\n",
       "      <td>1.508346</td>\n",
       "      <td>-0.956217</td>\n",
       "      <td>-0.696427</td>\n",
       "      <td>0.283101</td>\n",
       "      <td>-0.657883</td>\n",
       "      <td>-0.280680</td>\n",
       "      <td>-0.957298</td>\n",
       "      <td>0.956217</td>\n",
       "      <td>-0.528024</td>\n",
       "      <td>-0.957482</td>\n",
       "    </tr>\n",
       "  </tbody>\n",
       "</table>\n",
       "<p>555 rows × 72 columns</p>\n",
       "</div>"
      ],
      "text/plain": [
       "       ARI_t1   ARVI_t1  CHL-RED-EDGE_t1  GNDVI_t1  MCARI_t1    MSI_t1  \\\n",
       "0   -0.761794  2.042529         0.841697 -0.439576 -0.041760  0.060303   \n",
       "1   -0.643734  0.507553        -0.655408 -0.647946 -0.404078 -0.147956   \n",
       "2   -0.439880  0.864648        -0.383889  0.464723  0.332572 -1.027764   \n",
       "3   -0.427910  0.936789        -0.751609  0.108988  0.434843 -0.813724   \n",
       "4   -0.744283  2.486788         1.102627 -0.667678  0.203669 -1.280612   \n",
       "..        ...       ...              ...       ...       ...       ...   \n",
       "550  1.123179 -0.320767        -0.511434  1.864718  6.339161 -1.712146   \n",
       "551  0.738938 -0.298806         0.631310  1.068524  1.039655 -1.066419   \n",
       "552  1.769957 -0.076091         1.082505  1.767927  2.554046 -1.755808   \n",
       "553 -1.252806 -0.668029        -1.161964 -1.349022 -1.127643 -0.879164   \n",
       "554 -0.448286 -0.823978         0.843754 -0.717514 -0.319530 -0.610190   \n",
       "\n",
       "       NBR_t1   NDII_t1   NDVI_t1   NDWI_t1  ...  CHL-RED-EDGE_t6  GNDVI_t6  \\\n",
       "0    0.112665 -0.055921  0.087810  0.439576  ...         2.982053  0.134392   \n",
       "1    0.214989  0.143215 -0.640418  0.647946  ...         0.342247 -0.504599   \n",
       "2    1.346028  1.220790  0.813340 -0.464723  ...         1.553820  0.302509   \n",
       "3    1.080132  0.915939  0.304738 -0.108988  ...         0.599547  0.309297   \n",
       "4    1.580760  1.627356 -0.001959  0.667678  ...        -0.250630 -1.006747   \n",
       "..        ...       ...       ...       ...  ...              ...       ...   \n",
       "550  2.206427  2.470144  2.840950 -1.864718  ...        -0.689124 -0.454610   \n",
       "551  1.018629  1.279474  1.501506 -1.068524  ...        -0.496570 -0.788838   \n",
       "552  2.134815  2.568298  2.490799 -1.767927  ...        -0.554338 -0.668594   \n",
       "553  0.307691  1.005700 -1.041936  1.349022  ...        -0.557582 -1.734601   \n",
       "554  0.212327  0.654259 -0.578969  0.717514  ...         1.508346 -0.956217   \n",
       "\n",
       "     MCARI_t6    MSI_t6    NBR_t6   NDII_t6   NDVI_t6   NDWI_t6   PSSR_t6  \\\n",
       "0   -1.095916  0.374948  0.093231 -0.367216  0.218482 -0.134392  0.215592   \n",
       "1   -1.061637  0.888197 -0.616981 -0.814471 -0.544988  0.504599 -0.355598   \n",
       "2   -1.023644  0.425024 -0.276753 -0.413514  0.321870 -0.302509  0.341290   \n",
       "3    0.258919  0.440476  0.187003 -0.427678  0.393411 -0.309297  0.439835   \n",
       "4   -0.820671  0.648172 -0.526895 -0.612619 -0.965165  1.006747 -0.530797   \n",
       "..        ...       ...       ...       ...       ...       ...       ...   \n",
       "550  0.201012  0.044068 -0.176828 -0.045139 -0.401368  0.454610 -0.279713   \n",
       "551 -0.500009  0.665603 -0.802461 -0.627694 -0.772312  0.788838 -0.457752   \n",
       "552  0.560228  0.218260 -0.561606 -0.218293 -0.560905  0.668594 -0.363417   \n",
       "553 -1.682227  1.817373 -1.907963 -1.494211 -1.684792  1.734601 -0.730072   \n",
       "554 -0.696427  0.283101 -0.657883 -0.280680 -0.957298  0.956217 -0.528024   \n",
       "\n",
       "      SAVI_t6  \n",
       "0    0.218248  \n",
       "1   -0.545111  \n",
       "2    0.321718  \n",
       "3    0.393297  \n",
       "4   -0.965273  \n",
       "..        ...  \n",
       "550 -0.401410  \n",
       "551 -0.772394  \n",
       "552 -0.560974  \n",
       "553 -1.684920  \n",
       "554 -0.957482  \n",
       "\n",
       "[555 rows x 72 columns]"
      ]
     },
     "execution_count": 85,
     "metadata": {},
     "output_type": "execute_result"
    }
   ],
   "source": [
    "X_test_scaled"
   ]
  },
  {
   "cell_type": "code",
   "execution_count": 86,
   "metadata": {},
   "outputs": [],
   "source": [
    "predictions = model.predict(X_test_scaled)"
   ]
  },
  {
   "cell_type": "code",
   "execution_count": 87,
   "metadata": {},
   "outputs": [
    {
     "data": {
      "text/plain": [
       "555"
      ]
     },
     "execution_count": 87,
     "metadata": {},
     "output_type": "execute_result"
    }
   ],
   "source": [
    "predictions.size"
   ]
  },
  {
   "cell_type": "code",
   "execution_count": 88,
   "metadata": {},
   "outputs": [],
   "source": [
    "# Invierto el dict para poder mapear los valores del array\n",
    "\n",
    "inv_map = {v: k for k, v in mapping.items()}"
   ]
  },
  {
   "cell_type": "code",
   "execution_count": 89,
   "metadata": {},
   "outputs": [
    {
     "data": {
      "text/plain": [
       "{0: 'A',\n",
       " 1: 'B',\n",
       " 2: 'G',\n",
       " 3: 'M',\n",
       " 4: 'N',\n",
       " 5: 'P',\n",
       " 6: 'R',\n",
       " 7: 'S',\n",
       " 8: 'S/M',\n",
       " 9: 'T',\n",
       " 10: 'U',\n",
       " 11: 'X',\n",
       " 12: 'aa',\n",
       " 13: 'm',\n",
       " 14: 's'}"
      ]
     },
     "execution_count": 89,
     "metadata": {},
     "output_type": "execute_result"
    }
   ],
   "source": [
    "inv_map"
   ]
  },
  {
   "cell_type": "code",
   "execution_count": 90,
   "metadata": {},
   "outputs": [
    {
     "data": {
      "text/plain": [
       "array(['M', 'M', 'S', 'N', 'N', 'M', 'S', 'S', 'S', 'P', 'S', 'P', 'S',\n",
       "       'S', 'M', 'S', 'S', 'S', 'S', 'N', 'N', 'N', 'S', 'S', 'N', 'N',\n",
       "       'N', 'S', 'S', 'S', 'S', 'S', 'N', 'S', 'M', 'M', 'S', 'S', 'S',\n",
       "       'N', 'S', 'N', 'S', 'S', 'N', 'S', 'N', 'S', 'S/M', 'S', 'M', 'M',\n",
       "       'N', 'M', 'S', 'M', 'S', 'S', 'S', 'S', 'M', 'S', 'M', 'S', 'S',\n",
       "       'S', 'S', 'S', 'M', 'M', 'M', 'S', 'N', 'S', 'M', 'M', 'M', 'M',\n",
       "       'P', 'N', 'P', 'S', 'S', 'S', 'S', 'M', 'M', 'N', 'M', 'M', 'M',\n",
       "       'S', 'S', 'S', 'S', 'S', 'S', 'S', 'S', 'S', 'S', 'S', 'S', 'S',\n",
       "       'S', 'M', 'S', 'S', 'M', 'S', 'X', 'S', 'M', 'S', 'S', 'S', 'S',\n",
       "       'M', 'S', 'S', 'S', 'S', 'S', 'S', 'S', 'S', 'N', 'S', 'S', 'S',\n",
       "       'S', 'S', 'M', 'S', 'S', 'S', 'S', 'M', 'M', 'S', 'M', 'M', 'M',\n",
       "       'N', 'S', 'M', 'M', 'M', 'S', 'S', 'P', 'S', 'M', 'M', 'S', 'S',\n",
       "       'S', 'S', 'S', 'M', 'M', 'S', 'S', 'S', 'S', 'M', 'M', 'M', 'M',\n",
       "       'M', 'S', 'S', 'S', 'S', 'N', 'S', 'S', 'S', 'N', 'S', 'S', 'M',\n",
       "       'S', 'N', 'S', 'N', 'S', 'P', 'N', 'S', 'X', 'M', 'S', 'S', 'M',\n",
       "       'N', 'S', 'P', 'S', 'S', 'S', 'S', 'M', 'S', 'S', 'N', 'S', 'S',\n",
       "       'S', 'S', 'M', 'S', 'S', 'S', 'S', 'S', 'S', 'S', 'S', 'S', 'S',\n",
       "       'S', 'S', 'S/M', 'S', 'S', 'M', 'M', 'M', 'S', 'N', 'S', 'S', 'X',\n",
       "       'P', 'S', 'S', 'S', 'S', 'M', 'S', 'S', 'N', 'S', 'M', 'S', 'S',\n",
       "       'N', 'N', 'P', 'S', 'X', 'M', 'M', 'P', 'S', 'X', 'S', 'S', 'M',\n",
       "       'M', 'M', 'M', 'P', 'P', 'N', 'S', 'S', 'M', 'N', 'N', 'M', 'S',\n",
       "       'S', 'M', 'S', 'N', 'N', 'S', 'S', 'S', 'S', 'N', 'P', 's', 'N',\n",
       "       'N', 'N', 'X', 'X', 'S', 's', 'S', 'S', 'N', 'M', 's', 'N', 'S',\n",
       "       'X', 'X', 'X', 'S', 'P', 'N', 'S', 'S', 'M', 'S', 'S', 's', 'X',\n",
       "       'S', 'S', 'X', 'S', 'S', 'S', 'M', 'S', 'S', 'N', 'S', 'S', 'S',\n",
       "       'S', 'M', 'S', 'S', 'X', 'M', 'M', 'S', 'M', 'M', 'S', 'S', 'S',\n",
       "       'M', 'S', 'S', 'X', 'X', 'S', 'S', 'S', 'M', 'M', 'N', 'S', 's',\n",
       "       'S', 's', 'P', 'S', 'M', 'S', 'M', 'N', 'N', 'N', 'N', 'N', 'S',\n",
       "       'S', 'S', 'M', 'S', 'M', 'S', 'S', 'X', 'S', 'S', 'S', 'S', 'N',\n",
       "       'M', 'M', 'S', 'N', 'M', 'M', 'M', 'N', 'P', 'X', 'S', 'S', 'P',\n",
       "       'X', 'N', 'N', 'X', 'M', 'X', 'X', 'N', 'S', 'M', 'S', 'M', 'N',\n",
       "       'M', 's', 'M', 'X', 'P', 'X', 'P', 's', 'M', 'S', 'M', 'P', 'N',\n",
       "       'X', 'N', 'M', 'N', 'N', 'S', 'U', 'X', 'S', 'N', 'N', 'M', 'S',\n",
       "       'X', 'M', 'N', 's', 'S', 'S', 's', 'S', 'S', 'M', 'M', 'S', 'S',\n",
       "       'M', 'N', 'M', 'S', 'M', 'P', 'N', 'P', 'N', 'M', 'M', 'N', 'S',\n",
       "       'M', 'S', 'N', 'U', 'N', 'S', 'M', 'X', 'N', 'S', 'U', 'X', 'S',\n",
       "       'M', 's', 'A', 'S', 'M', 'S', 'M', 'U', 'M', 'M', 'S', 'U', 'M',\n",
       "       'N', 'X', 'M', 'X', 'M', 'X', 'S', 'M', 'M', 'M', 'S', 'M', 'M',\n",
       "       'X', 'S', 'N', 'S', 'S', 'S', 'S', 'S', 'N', 'X', 'S', 'M', 'S',\n",
       "       'A', 'N', 'M', 'M', 'X', 'M', 'S', 'M', 'M', 'M', 'S', 'S', 'N',\n",
       "       'N', 'N', 'X', 'M', 'S', 'M', 'X', 'P', 'N', 'N', 'S', 'N', 'S',\n",
       "       'S', 'X', 'S', 'P', 'S', 'S', 'S', 'M', 'S', 'X', 'X', 'M', 'M',\n",
       "       'P', 'M', 'M', 'X', 'P', 'N', 'N', 'A', 'N'], dtype='<U3')"
      ]
     },
     "execution_count": 90,
     "metadata": {},
     "output_type": "execute_result"
    }
   ],
   "source": [
    "pred_final = np.array([inv_map[x] for x in predictions])\n",
    "pred_final"
   ]
  },
  {
   "cell_type": "code",
   "execution_count": 91,
   "metadata": {},
   "outputs": [
    {
     "data": {
      "text/plain": [
       "555"
      ]
     },
     "execution_count": 91,
     "metadata": {},
     "output_type": "execute_result"
    }
   ],
   "source": [
    "global_Id.size"
   ]
  },
  {
   "cell_type": "code",
   "execution_count": 92,
   "metadata": {},
   "outputs": [
    {
     "data": {
      "text/plain": [
       "array([   2,    3,    5,    8,   11,   12,   13,   16,   17,   18,   19,\n",
       "         20,   21,   22,   24,   29,   31,   32,   35,   36,   37,   40,\n",
       "         47,   48,   50,   51,   53,   56,   58,   59,   63,   67,   68,\n",
       "         84,   87,   90,   91,   95,   96,   97,   98,   99,  103,  107,\n",
       "        111,  114,  116,  122,  124,  125,  127,  131,  133,  135,  137,\n",
       "        138,  139,  141,  142,  145,  146,  147,  148,  152,  154,  155,\n",
       "        156,  157,  158,  160,  161,  162,  167,  171,  178,  180,  182,\n",
       "        184,  190,  192,  193,  194,  204,  206,  208,  210,  211,  216,\n",
       "        218,  223,  225,  240,  241,  243,  244,  245,  247,  248,  250,\n",
       "        252,  253,  254,  255,  257,  264,  269,  270,  272,  273,  275,\n",
       "        277,  279,  280,  282,  283,  288,  289,  290,  291,  294,  296,\n",
       "        299,  300,  302,  304,  305,  307,  311,  312,  313,  314,  315,\n",
       "        317,  319,  320,  324,  325,  326,  332,  334,  339,  341,  343,\n",
       "        344,  351,  352,  354,  359,  363,  365,  369,  376,  380,  381,\n",
       "        383,  384,  385,  387,  389,  390,  392,  393,  395,  397,  398,\n",
       "        403,  405,  406,  408,  410,  412,  418,  426,  428,  431,  434,\n",
       "        445,  448,  451,  452,  453,  454,  456,  459,  460,  461,  462,\n",
       "        464,  465,  467,  470,  471,  474,  476,  482,  484,  485,  486,\n",
       "        489,  491,  492,  493,  496,  497,  498,  499,  501,  502,  505,\n",
       "        506,  507,  508,  515,  517,  521,  522,  524,  526,  527,  530,\n",
       "        531,  533,  534,  535,  537,  538,  545,  549,  552,  553,  556,\n",
       "        558,  560,  563,  565,  567,  569,  570,  575,  589,  590,  606,\n",
       "        619,  623,  632,  634,  635,  639,  641,  643,  652,  656,  657,\n",
       "        658,  659,  664,  667,  673,  684,  686,  687,  690,  692,  695,\n",
       "        697,  699,  702,  704,  705,  709,  710,  714,  715,  716,  719,\n",
       "        722,  725,  726,  727,  728,  731,  732,  733,  736,  739,  741,\n",
       "        745,  748,  750,  753,  757,  763,  766,  768,  774,  776,  779,\n",
       "        782,  785,  797,  798,  801,  802,  803,  804,  805,  811,  813,\n",
       "        816,  823,  824,  827,  829,  833,  834,  842,  845,  847,  850,\n",
       "        851,  852,  855,  856,  862,  872,  874,  875,  878,  881,  883,\n",
       "        884,  887,  888,  889,  890,  894,  896,  897,  898,  899,  907,\n",
       "        910,  912,  913,  914,  917,  918,  925,  926,  927,  928,  930,\n",
       "        931,  934,  939,  940,  941,  942,  946,  954,  957,  958,  959,\n",
       "        962,  965,  968,  974,  975,  978,  979,  982,  983,  986,  989,\n",
       "        994,  997,  999, 1001, 1004, 1005, 1007, 1008, 1009, 1011, 1014,\n",
       "       1016, 1017, 1018, 1019, 1020, 1022, 1025, 1028, 1031, 1037, 1038,\n",
       "       1040, 1041, 1042, 1048, 1049, 1050, 1051, 1053, 1054, 1056, 1058,\n",
       "       1059, 1075, 1076, 1077, 1078, 1079, 1080, 1082, 1085, 1093, 1094,\n",
       "       1097, 1102, 1108, 1110, 1112, 1118, 1121, 1125, 1127, 1132, 1134,\n",
       "       1138, 1140, 1141, 1145, 1147, 1149, 1157, 1160, 1162, 1164, 1167,\n",
       "       1169, 1170, 1171, 1173, 1174, 1175, 1177, 1178, 1180, 1182, 1183,\n",
       "       1184, 1186, 1187, 1189, 1192, 1194, 1197, 1199, 1200, 1201, 1202,\n",
       "       1204, 1209, 1214, 1215, 1218, 1221, 1222, 1223, 1226, 1231, 1234,\n",
       "       1237, 1238, 1239, 1241, 1243, 1245, 1246, 1247, 1249, 1251, 1252,\n",
       "       1257, 1258, 1263, 1264, 1265, 1273, 1277, 1283, 1286, 1288, 1290,\n",
       "       1296, 1297, 1298, 1300, 1303, 1304, 1309, 1310, 1311, 1313, 1316,\n",
       "       1318, 1320, 1328, 1330, 1332, 1335, 1336, 1337, 1338, 1339, 1342,\n",
       "       1346, 1347, 1352, 1353, 1357, 1358, 1362, 1363, 1364, 1366, 1368,\n",
       "       1369, 1370, 1371, 1378, 1380, 1388, 1392, 1396, 1400, 1407, 1413,\n",
       "       1415, 1420, 1422, 1425, 1426, 1428, 1431, 1432, 1434, 1435, 1436,\n",
       "       1438, 1443, 1445, 1450, 1454])"
      ]
     },
     "execution_count": 92,
     "metadata": {},
     "output_type": "execute_result"
    }
   ],
   "source": [
    "global_Id= df_test['GlobalId'].values\n",
    "global_Id"
   ]
  },
  {
   "cell_type": "code",
   "execution_count": 93,
   "metadata": {},
   "outputs": [],
   "source": [
    "fin= np.column_stack((global_Id, pred_final))"
   ]
  },
  {
   "cell_type": "code",
   "execution_count": 94,
   "metadata": {},
   "outputs": [
    {
     "data": {
      "text/plain": [
       "array([['2', 'M'],\n",
       "       ['3', 'M'],\n",
       "       ['5', 'S'],\n",
       "       ...,\n",
       "       ['1445', 'N'],\n",
       "       ['1450', 'A'],\n",
       "       ['1454', 'N']], dtype='<U21')"
      ]
     },
     "execution_count": 94,
     "metadata": {},
     "output_type": "execute_result"
    }
   ],
   "source": [
    "fin"
   ]
  },
  {
   "cell_type": "markdown",
   "metadata": {},
   "source": [
    "# Exportar archivo final "
   ]
  },
  {
   "cell_type": "code",
   "execution_count": 249,
   "metadata": {},
   "outputs": [],
   "source": [
    "np.savetxt('2darray.csv', fin, delimiter=',', fmt='%d')"
   ]
  },
  {
   "cell_type": "code",
   "execution_count": 247,
   "metadata": {},
   "outputs": [],
   "source": [
    "fin.tofile('predss.csv', sep=',')"
   ]
  },
  {
   "cell_type": "code",
   "execution_count": null,
   "metadata": {},
   "outputs": [],
   "source": []
  }
 ],
 "metadata": {
  "kernelspec": {
   "display_name": "Python 3",
   "language": "python",
   "name": "python3"
  },
  "language_info": {
   "codemirror_mode": {
    "name": "ipython",
    "version": 3
   },
   "file_extension": ".py",
   "mimetype": "text/x-python",
   "name": "python",
   "nbconvert_exporter": "python",
   "pygments_lexer": "ipython3",
   "version": "3.7.6"
  },
  "widgets": {
   "application/vnd.jupyter.widget-state+json": {
    "state": {},
    "version_major": 2,
    "version_minor": 0
   }
  }
 },
 "nbformat": 4,
 "nbformat_minor": 4
}
